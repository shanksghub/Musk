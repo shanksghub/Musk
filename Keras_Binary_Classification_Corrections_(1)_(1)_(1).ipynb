{
  "nbformat": 4,
  "nbformat_minor": 0,
  "metadata": {
    "colab": {
      "name": "Keras_Binary_Classification_Corrections (1) (1).ipynb",
      "provenance": [],
      "include_colab_link": true
    },
    "kernelspec": {
      "display_name": "Python 3",
      "language": "python",
      "name": "python3"
    },
    "language_info": {
      "codemirror_mode": {
        "name": "ipython",
        "version": 3
      },
      "file_extension": ".py",
      "mimetype": "text/x-python",
      "name": "python",
      "nbconvert_exporter": "python",
      "pygments_lexer": "ipython3",
      "version": "3.6.7"
    }
  },
  "cells": [
    {
      "cell_type": "markdown",
      "metadata": {
        "id": "view-in-github",
        "colab_type": "text"
      },
      "source": [
        "<a href=\"https://colab.research.google.com/github/shanksghub/Musk/blob/master/Keras_Binary_Classification_Corrections_(1)_(1)_(1).ipynb\" target=\"_parent\"><img src=\"https://colab.research.google.com/assets/colab-badge.svg\" alt=\"Open In Colab\"/></a>"
      ]
    },
    {
      "cell_type": "code",
      "metadata": {
        "colab_type": "code",
        "id": "2RQZW19g3EzG",
        "colab": {}
      },
      "source": [
        "import pandas as pd\n",
        "from pandas import read_csv\n",
        "from keras.models import Sequential\n",
        "from keras.layers import Dense\n",
        "from keras.callbacks import Callback\n",
        "from sklearn.model_selection import train_test_split\n",
        "import matplotlib.pyplot as plt"
      ],
      "execution_count": 0,
      "outputs": []
    },
    {
      "cell_type": "code",
      "metadata": {
        "id": "I1ZfK5cs1vbO",
        "colab_type": "code",
        "colab": {}
      },
      "source": [
        "# load dataset\n",
        "url = 'https://raw.githubusercontent.com/shanksghub/Musk.csv/master/musk_csv.csv'\n",
        "df = pd.read_csv(url)"
      ],
      "execution_count": 0,
      "outputs": []
    },
    {
      "cell_type": "code",
      "metadata": {
        "colab_type": "code",
        "id": "I-kxczgV3HJp",
        "colab": {}
      },
      "source": [
        "dataset = df.values\n",
        "# split into input (X) and output (Y) variables\n",
        "X = df.drop(['class','ID','molecule_name','conformation_name'], axis = 1)\n",
        "y = df[['class']].to_numpy().ravel()"
      ],
      "execution_count": 0,
      "outputs": []
    },
    {
      "cell_type": "code",
      "metadata": {
        "colab_type": "code",
        "id": "Vydlroai3tmM",
        "colab": {}
      },
      "source": [
        "from sklearn.preprocessing import StandardScaler\n",
        "\n",
        "# Scale data\n",
        "scaler = StandardScaler()\n",
        "X = scaler.fit_transform(X)"
      ],
      "execution_count": 0,
      "outputs": []
    },
    {
      "cell_type": "code",
      "metadata": {
        "id": "tnh8l_A_1vbf",
        "colab_type": "code",
        "colab": {}
      },
      "source": [
        "X_train, X_test, y_train, y_test = train_test_split(X, y, test_size=0.2, random_state=42)"
      ],
      "execution_count": 0,
      "outputs": []
    },
    {
      "cell_type": "code",
      "metadata": {
        "id": "3glt-j3_1vbl",
        "colab_type": "code",
        "colab": {
          "base_uri": "https://localhost:8080/",
          "height": 496
        },
        "outputId": "fb66555f-e180-4c85-cc9d-bdc231ed59cf"
      },
      "source": [
        "# Model\n",
        "model = Sequential()\n",
        "model.add(Dense(256, input_shape=X.shape[1:], activation='relu'))\n",
        "model.add(Dense(256, activation='relu'))\n",
        "model.add(Dense(1, activation='sigmoid'))\n",
        "\n",
        "# Compile model\n",
        "model.compile(loss='binary_crossentropy', optimizer='adam', metrics=['accuracy'])\n",
        "\n",
        "model.summary()\n"
      ],
      "execution_count": 9,
      "outputs": [
        {
          "output_type": "stream",
          "text": [
            "WARNING:tensorflow:From /usr/local/lib/python3.6/dist-packages/keras/backend/tensorflow_backend.py:66: The name tf.get_default_graph is deprecated. Please use tf.compat.v1.get_default_graph instead.\n",
            "\n",
            "WARNING:tensorflow:From /usr/local/lib/python3.6/dist-packages/keras/backend/tensorflow_backend.py:541: The name tf.placeholder is deprecated. Please use tf.compat.v1.placeholder instead.\n",
            "\n",
            "WARNING:tensorflow:From /usr/local/lib/python3.6/dist-packages/keras/backend/tensorflow_backend.py:4432: The name tf.random_uniform is deprecated. Please use tf.random.uniform instead.\n",
            "\n",
            "WARNING:tensorflow:From /usr/local/lib/python3.6/dist-packages/keras/optimizers.py:793: The name tf.train.Optimizer is deprecated. Please use tf.compat.v1.train.Optimizer instead.\n",
            "\n",
            "WARNING:tensorflow:From /usr/local/lib/python3.6/dist-packages/keras/backend/tensorflow_backend.py:3657: The name tf.log is deprecated. Please use tf.math.log instead.\n",
            "\n",
            "WARNING:tensorflow:From /usr/local/lib/python3.6/dist-packages/tensorflow_core/python/ops/nn_impl.py:183: where (from tensorflow.python.ops.array_ops) is deprecated and will be removed in a future version.\n",
            "Instructions for updating:\n",
            "Use tf.where in 2.0, which has the same broadcast rule as np.where\n",
            "Model: \"sequential_1\"\n",
            "_________________________________________________________________\n",
            "Layer (type)                 Output Shape              Param #   \n",
            "=================================================================\n",
            "dense_1 (Dense)              (None, 256)               42752     \n",
            "_________________________________________________________________\n",
            "dense_2 (Dense)              (None, 256)               65792     \n",
            "_________________________________________________________________\n",
            "dense_3 (Dense)              (None, 1)                 257       \n",
            "=================================================================\n",
            "Total params: 108,801\n",
            "Trainable params: 108,801\n",
            "Non-trainable params: 0\n",
            "_________________________________________________________________\n"
          ],
          "name": "stdout"
        }
      ]
    },
    {
      "cell_type": "code",
      "metadata": {
        "id": "LrefmwEn1vbs",
        "colab_type": "code",
        "colab": {}
      },
      "source": [
        "class LossHistory(Callback):\n",
        "    def on_train_begin(self, logs={}):\n",
        "        self.losses = []\n",
        "\n",
        "#     def on_batch_end(self, batch, logs={}):\n",
        "#         self.losses.append(logs.get('loss'))"
      ],
      "execution_count": 0,
      "outputs": []
    },
    {
      "cell_type": "code",
      "metadata": {
        "id": "yQwey2TP1vbx",
        "colab_type": "code",
        "colab": {}
      },
      "source": [
        "# loss history recorder\n",
        "history = LossHistory()"
      ],
      "execution_count": 0,
      "outputs": []
    },
    {
      "cell_type": "code",
      "metadata": {
        "id": "468eZvhM1vb2",
        "colab_type": "code",
        "colab": {
          "base_uri": "https://localhost:8080/",
          "height": 666
        },
        "outputId": "ceb19cec-33a1-4f20-fab0-b053c24097a9"
      },
      "source": [
        "train_history = model.fit(X_train, y_train, epochs=10, verbose=1, \n",
        "                                    validation_data=(X_test, y_test), \n",
        "                                    callbacks=[history])"
      ],
      "execution_count": 12,
      "outputs": [
        {
          "output_type": "stream",
          "text": [
            "WARNING:tensorflow:From /usr/local/lib/python3.6/dist-packages/keras/backend/tensorflow_backend.py:1033: The name tf.assign_add is deprecated. Please use tf.compat.v1.assign_add instead.\n",
            "\n",
            "WARNING:tensorflow:From /usr/local/lib/python3.6/dist-packages/keras/backend/tensorflow_backend.py:1020: The name tf.assign is deprecated. Please use tf.compat.v1.assign instead.\n",
            "\n",
            "WARNING:tensorflow:From /usr/local/lib/python3.6/dist-packages/keras/backend/tensorflow_backend.py:3005: The name tf.Session is deprecated. Please use tf.compat.v1.Session instead.\n",
            "\n",
            "Train on 5278 samples, validate on 1320 samples\n",
            "Epoch 1/10\n",
            "WARNING:tensorflow:From /usr/local/lib/python3.6/dist-packages/keras/backend/tensorflow_backend.py:190: The name tf.get_default_session is deprecated. Please use tf.compat.v1.get_default_session instead.\n",
            "\n",
            "WARNING:tensorflow:From /usr/local/lib/python3.6/dist-packages/keras/backend/tensorflow_backend.py:197: The name tf.ConfigProto is deprecated. Please use tf.compat.v1.ConfigProto instead.\n",
            "\n",
            "WARNING:tensorflow:From /usr/local/lib/python3.6/dist-packages/keras/backend/tensorflow_backend.py:207: The name tf.global_variables is deprecated. Please use tf.compat.v1.global_variables instead.\n",
            "\n",
            "WARNING:tensorflow:From /usr/local/lib/python3.6/dist-packages/keras/backend/tensorflow_backend.py:216: The name tf.is_variable_initialized is deprecated. Please use tf.compat.v1.is_variable_initialized instead.\n",
            "\n",
            "WARNING:tensorflow:From /usr/local/lib/python3.6/dist-packages/keras/backend/tensorflow_backend.py:223: The name tf.variables_initializer is deprecated. Please use tf.compat.v1.variables_initializer instead.\n",
            "\n",
            "5278/5278 [==============================] - 1s 191us/step - loss: 0.1839 - acc: 0.9269 - val_loss: 0.1190 - val_acc: 0.9462\n",
            "Epoch 2/10\n",
            "5278/5278 [==============================] - 0s 88us/step - loss: 0.0793 - acc: 0.9723 - val_loss: 0.0595 - val_acc: 0.9780\n",
            "Epoch 3/10\n",
            "5278/5278 [==============================] - 0s 92us/step - loss: 0.0510 - acc: 0.9786 - val_loss: 0.0556 - val_acc: 0.9833\n",
            "Epoch 4/10\n",
            "5278/5278 [==============================] - 0s 81us/step - loss: 0.0368 - acc: 0.9867 - val_loss: 0.0404 - val_acc: 0.9826\n",
            "Epoch 5/10\n",
            "5278/5278 [==============================] - 0s 85us/step - loss: 0.0261 - acc: 0.9907 - val_loss: 0.0219 - val_acc: 0.9932\n",
            "Epoch 6/10\n",
            "5278/5278 [==============================] - 0s 84us/step - loss: 0.0172 - acc: 0.9943 - val_loss: 0.0206 - val_acc: 0.9879\n",
            "Epoch 7/10\n",
            "5278/5278 [==============================] - 0s 86us/step - loss: 0.0095 - acc: 0.9966 - val_loss: 0.0187 - val_acc: 0.9955\n",
            "Epoch 8/10\n",
            "5278/5278 [==============================] - 0s 91us/step - loss: 0.0283 - acc: 0.9896 - val_loss: 0.0470 - val_acc: 0.9780\n",
            "Epoch 9/10\n",
            "5278/5278 [==============================] - 0s 91us/step - loss: 0.0143 - acc: 0.9941 - val_loss: 0.0125 - val_acc: 0.9955\n",
            "Epoch 10/10\n",
            "5278/5278 [==============================] - 0s 90us/step - loss: 0.0065 - acc: 0.9987 - val_loss: 0.0086 - val_acc: 0.9947\n"
          ],
          "name": "stdout"
        }
      ]
    },
    {
      "cell_type": "code",
      "metadata": {
        "id": "aM13dFn21vb8",
        "colab_type": "code",
        "colab": {
          "base_uri": "https://localhost:8080/",
          "height": 697
        },
        "outputId": "091efbbd-946c-4a1d-da15-1825f22930f3"
      },
      "source": [
        "train_history.history"
      ],
      "execution_count": 13,
      "outputs": [
        {
          "output_type": "execute_result",
          "data": {
            "text/plain": [
              "{'acc': [0.9268662370755484,\n",
              "  0.9723380068207654,\n",
              "  0.9785903751420992,\n",
              "  0.9867374003724014,\n",
              "  0.9907161803713528,\n",
              "  0.9943160287987874,\n",
              "  0.9965896172792724,\n",
              "  0.9895793859730078,\n",
              "  0.9941265629339778,\n",
              "  0.9986737400530504],\n",
              " 'loss': [0.18387541500128052,\n",
              "  0.07932508373389521,\n",
              "  0.05099728945981501,\n",
              "  0.0368306129043636,\n",
              "  0.026133140484128726,\n",
              "  0.017227481837854122,\n",
              "  0.00945381497254125,\n",
              "  0.028347363032389314,\n",
              "  0.014281459103776732,\n",
              "  0.006478885941673534],\n",
              " 'val_acc': [0.9462121212121212,\n",
              "  0.978030303030303,\n",
              "  0.9833333333333333,\n",
              "  0.9825757575757575,\n",
              "  0.9931818181818182,\n",
              "  0.9878787878787879,\n",
              "  0.9954545454545455,\n",
              "  0.978030303030303,\n",
              "  0.9954545454545455,\n",
              "  0.9946969696969697],\n",
              " 'val_loss': [0.11897695125503974,\n",
              "  0.05948396335271272,\n",
              "  0.05564389113675464,\n",
              "  0.04043398542809441,\n",
              "  0.021938386924959946,\n",
              "  0.020631938222372397,\n",
              "  0.01867356303881741,\n",
              "  0.046984083858798396,\n",
              "  0.012532593328929083,\n",
              "  0.008574101312048945]}"
            ]
          },
          "metadata": {
            "tags": []
          },
          "execution_count": 13
        }
      ]
    },
    {
      "cell_type": "code",
      "metadata": {
        "id": "drF7swpY1vcC",
        "colab_type": "code",
        "colab": {}
      },
      "source": [
        "df = pd.DataFrame(columns=('loss', 'loss_test'))  \n",
        "\n",
        "loss = train_history.history['loss']\n",
        "val_loss = train_history.history['val_loss']\n",
        "\n",
        "df['loss'] = loss\n",
        "df['loss_test'] = val_loss"
      ],
      "execution_count": 0,
      "outputs": []
    },
    {
      "cell_type": "code",
      "metadata": {
        "id": "6Q7XFmbJ1vcH",
        "colab_type": "code",
        "colab": {
          "base_uri": "https://localhost:8080/",
          "height": 282
        },
        "outputId": "03552a4a-8a2b-4d01-eed6-a64b32131648"
      },
      "source": [
        "plt.plot(range(len(df['loss'])),df['loss'],label='loss')\n",
        "plt.plot(range(len(df['loss'])),df['loss_test'],label='Val loss')"
      ],
      "execution_count": 15,
      "outputs": [
        {
          "output_type": "execute_result",
          "data": {
            "text/plain": [
              "[<matplotlib.lines.Line2D at 0x7f058398dac8>]"
            ]
          },
          "metadata": {
            "tags": []
          },
          "execution_count": 15
        },
        {
          "output_type": "display_data",
          "data": {
            "image/png": "[encoded data removed]",
            "text/plain": [
              "<Figure size 432x288 with 1 Axes>"
            ]
          },
          "metadata": {
            "tags": []
          }
        }
      ]
    },
    {
      "cell_type": "code",
      "metadata": {
        "id": "RE8GYd5c1vcM",
        "colab_type": "code",
        "colab": {}
      },
      "source": [
        "from keras.models import load_model\n",
        "model.save('my_model.h5')  # creates a HDF5 file 'my_model.h5'\n",
        "del model  # deletes the existing model\n",
        "# returns a compiled model\n",
        "# identical to the previous one\n",
        "model = load_model('my_model.h5')\n"
      ],
      "execution_count": 0,
      "outputs": []
    },
    {
      "cell_type": "code",
      "metadata": {
        "id": "nlnOqqhy7_OG",
        "colab_type": "code",
        "colab": {}
      },
      "source": [
        "\n",
        "import sklearn.model_selection\n",
        "import sklearn.metrics\n",
        "import sklearn.preprocessing\n",
        "import keras\n",
        "import numpy as np"
      ],
      "execution_count": 0,
      "outputs": []
    },
    {
      "cell_type": "code",
      "metadata": {
        "id": "y2Jssuwy1vcR",
        "colab_type": "code",
        "colab": {
          "base_uri": "https://localhost:8080/",
          "height": 360
        },
        "outputId": "346d7873-09cf-462c-844d-53014cd7c6e3"
      },
      "source": [
        "print('\\n-- Training data --')\n",
        "predictions = model.predict(X_train)\n",
        "accuracy = sklearn.metrics.accuracy_score(y_train, np.argmax(predictions, axis=1))\n",
        "print('Accuracy: {0:.2f}'.format(accuracy * 100.0))\n",
        "print('Classification Report:')\n",
        "print(sklearn.metrics.classification_report(y_train, np.argmax(predictions, axis=1)))\n",
        "print('Confusion Matrix:')\n",
        "print(sklearn.metrics.confusion_matrix(y_train, np.argmax(predictions, axis=1)))\n",
        "print('')"
      ],
      "execution_count": 22,
      "outputs": [
        {
          "output_type": "stream",
          "text": [
            "\n",
            "-- Training data --\n",
            "Accuracy: 84.69\n",
            "Classification Report:\n",
            "              precision    recall  f1-score   support\n",
            "\n",
            "           0       0.85      1.00      0.92      4470\n",
            "           1       0.00      0.00      0.00       808\n",
            "\n",
            "    accuracy                           0.85      5278\n",
            "   macro avg       0.42      0.50      0.46      5278\n",
            "weighted avg       0.72      0.85      0.78      5278\n",
            "\n",
            "Confusion Matrix:\n",
            "[[4470    0]\n",
            " [ 808    0]]\n",
            "\n"
          ],
          "name": "stdout"
        },
        {
          "output_type": "stream",
          "text": [
            "/usr/local/lib/python3.6/dist-packages/sklearn/metrics/_classification.py:1272: UndefinedMetricWarning: Precision and F-score are ill-defined and being set to 0.0 in labels with no predicted samples. Use `zero_division` parameter to control this behavior.\n",
            "  _warn_prf(average, modifier, msg_start, len(result))\n"
          ],
          "name": "stderr"
        }
      ]
    }
  ]
}