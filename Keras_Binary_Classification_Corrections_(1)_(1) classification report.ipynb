{
  "nbformat": 4,
  "nbformat_minor": 0,
  "metadata": {
    "colab": {
      "name": "Keras_Binary_Classification_Corrections (1) (1).ipynb",
      "provenance": [],
      "include_colab_link": true
    },
    "kernelspec": {
      "display_name": "Python 3",
      "language": "python",
      "name": "python3"
    },
    "language_info": {
      "codemirror_mode": {
        "name": "ipython",
        "version": 3
      },
      "file_extension": ".py",
      "mimetype": "text/x-python",
      "name": "python",
      "nbconvert_exporter": "python",
      "pygments_lexer": "ipython3",
      "version": "3.6.7"
    }
  },
  "cells": [
    {
      "cell_type": "markdown",
      "metadata": {
        "id": "view-in-github",
        "colab_type": "text"
      },
      "source": [
        "<a href=\"https://colab.research.google.com/github/shanksghub/Musk/blob/master/Keras_Binary_Classification_Corrections_(1)_(1)%20classification%20report.ipynb\" target=\"_parent\"><img src=\"https://colab.research.google.com/assets/colab-badge.svg\" alt=\"Open In Colab\"/></a>"
      ]
    },
    {
      "cell_type": "code",
      "metadata": {
        "colab_type": "code",
        "id": "2RQZW19g3EzG",
        "colab": {}
      },
      "source": [
        "import pandas as pd\n",
        "from pandas import read_csv\n",
        "from keras.models import Sequential\n",
        "from keras.layers import Dense\n",
        "from keras.callbacks import Callback\n",
        "from sklearn.model_selection import train_test_split\n",
        "import matplotlib.pyplot as plt"
      ],
      "execution_count": 0,
      "outputs": []
    },
    {
      "cell_type": "code",
      "metadata": {
        "id": "I1ZfK5cs1vbO",
        "colab_type": "code",
        "colab": {}
      },
      "source": [
        "# load dataset\n",
        "url = 'https://raw.githubusercontent.com/shanksghub/Musk.csv/master/musk_csv.csv'\n",
        "df = pd.read_csv(url)"
      ],
      "execution_count": 0,
      "outputs": []
    },
    {
      "cell_type": "code",
      "metadata": {
        "colab_type": "code",
        "id": "I-kxczgV3HJp",
        "colab": {}
      },
      "source": [
        "dataset = df.values\n",
        "# split into input (X) and output (Y) variables\n",
        "X = df.drop(['class','ID','molecule_name','conformation_name'], axis = 1)\n",
        "y = df[['class']].to_numpy().ravel()"
      ],
      "execution_count": 0,
      "outputs": []
    },
    {
      "cell_type": "code",
      "metadata": {
        "colab_type": "code",
        "id": "Vydlroai3tmM",
        "colab": {}
      },
      "source": [
        "from sklearn.preprocessing import StandardScaler\n",
        "\n",
        "# Scale data\n",
        "scaler = StandardScaler()\n",
        "X = scaler.fit_transform(X)"
      ],
      "execution_count": 0,
      "outputs": []
    },
    {
      "cell_type": "code",
      "metadata": {
        "id": "tnh8l_A_1vbf",
        "colab_type": "code",
        "colab": {}
      },
      "source": [
        "X_train, X_test, y_train, y_test = train_test_split(X, y, test_size=0.2, random_state=42)\n",
        "y_pred = y_test"
      ],
      "execution_count": 0,
      "outputs": []
    },
    {
      "cell_type": "code",
      "metadata": {
        "id": "3glt-j3_1vbl",
        "colab_type": "code",
        "outputId": "778f1775-0846-4924-b79a-b917b498f2c4",
        "colab": {
          "base_uri": "https://localhost:8080/",
          "height": 255
        }
      },
      "source": [
        "# Model\n",
        "model = Sequential()\n",
        "model.add(Dense(256, input_shape=X.shape[1:], activation='sigmoid'))\n",
        "model.add(Dense(256, activation='sigmoid'))\n",
        "model.add(Dense(1, activation='sigmoid'))\n",
        "\n",
        "# Compile model\n",
        "model.compile(loss='binary_crossentropy', optimizer='adam', metrics=['accuracy'])\n",
        "\n",
        "model.summary()\n"
      ],
      "execution_count": 36,
      "outputs": [
        {
          "output_type": "stream",
          "text": [
            "Model: \"sequential_2\"\n",
            "_________________________________________________________________\n",
            "Layer (type)                 Output Shape              Param #   \n",
            "=================================================================\n",
            "dense_4 (Dense)              (None, 256)               42752     \n",
            "_________________________________________________________________\n",
            "dense_5 (Dense)              (None, 256)               65792     \n",
            "_________________________________________________________________\n",
            "dense_6 (Dense)              (None, 1)                 257       \n",
            "=================================================================\n",
            "Total params: 108,801\n",
            "Trainable params: 108,801\n",
            "Non-trainable params: 0\n",
            "_________________________________________________________________\n"
          ],
          "name": "stdout"
        }
      ]
    },
    {
      "cell_type": "code",
      "metadata": {
        "id": "LrefmwEn1vbs",
        "colab_type": "code",
        "colab": {}
      },
      "source": [
        "class LossHistory(Callback):\n",
        "    def on_train_begin(self, logs={}):\n",
        "        self.losses = []\n",
        "\n",
        "#     def on_batch_end(self, batch, logs={}):\n",
        "#         self.losses.append(logs.get('loss'))"
      ],
      "execution_count": 0,
      "outputs": []
    },
    {
      "cell_type": "code",
      "metadata": {
        "id": "yQwey2TP1vbx",
        "colab_type": "code",
        "colab": {}
      },
      "source": [
        "# loss history recorder\n",
        "history = LossHistory()"
      ],
      "execution_count": 0,
      "outputs": []
    },
    {
      "cell_type": "code",
      "metadata": {
        "id": "468eZvhM1vb2",
        "colab_type": "code",
        "outputId": "bba33d5f-3836-436d-b579-9d1168c13d9e",
        "colab": {
          "base_uri": "https://localhost:8080/",
          "height": 714
        }
      },
      "source": [
        "train_history = model.fit(X_train, y_train, epochs=20, verbose=1, \n",
        "                                    validation_data=(X_test, y_test), \n",
        "                                    callbacks=[history])"
      ],
      "execution_count": 39,
      "outputs": [
        {
          "output_type": "stream",
          "text": [
            "Train on 5278 samples, validate on 1320 samples\n",
            "Epoch 1/20\n",
            "5278/5278 [==============================] - 1s 156us/step - loss: 0.2584 - acc: 0.8979 - val_loss: 0.1851 - val_acc: 0.9288\n",
            "Epoch 2/20\n",
            "5278/5278 [==============================] - 1s 95us/step - loss: 0.1749 - acc: 0.9329 - val_loss: 0.1590 - val_acc: 0.9356\n",
            "Epoch 3/20\n",
            "5278/5278 [==============================] - 1s 95us/step - loss: 0.1461 - acc: 0.9443 - val_loss: 0.1334 - val_acc: 0.9477\n",
            "Epoch 4/20\n",
            "5278/5278 [==============================] - 0s 91us/step - loss: 0.1269 - acc: 0.9534 - val_loss: 0.1162 - val_acc: 0.9561\n",
            "Epoch 5/20\n",
            "5278/5278 [==============================] - 1s 96us/step - loss: 0.1052 - acc: 0.9621 - val_loss: 0.1007 - val_acc: 0.9659\n",
            "Epoch 6/20\n",
            "5278/5278 [==============================] - 0s 90us/step - loss: 0.0884 - acc: 0.9670 - val_loss: 0.0936 - val_acc: 0.9667\n",
            "Epoch 7/20\n",
            "5278/5278 [==============================] - 0s 91us/step - loss: 0.0776 - acc: 0.9703 - val_loss: 0.0796 - val_acc: 0.9712\n",
            "Epoch 8/20\n",
            "5278/5278 [==============================] - 0s 93us/step - loss: 0.0641 - acc: 0.9759 - val_loss: 0.0656 - val_acc: 0.9750\n",
            "Epoch 9/20\n",
            "5278/5278 [==============================] - 0s 94us/step - loss: 0.0562 - acc: 0.9773 - val_loss: 0.0878 - val_acc: 0.9621\n",
            "Epoch 10/20\n",
            "5278/5278 [==============================] - 1s 97us/step - loss: 0.0450 - acc: 0.9833 - val_loss: 0.0513 - val_acc: 0.9818\n",
            "Epoch 11/20\n",
            "5278/5278 [==============================] - 1s 97us/step - loss: 0.0370 - acc: 0.9860 - val_loss: 0.0412 - val_acc: 0.9841\n",
            "Epoch 12/20\n",
            "5278/5278 [==============================] - 1s 96us/step - loss: 0.0356 - acc: 0.9871 - val_loss: 0.0322 - val_acc: 0.9871\n",
            "Epoch 13/20\n",
            "5278/5278 [==============================] - 0s 94us/step - loss: 0.0291 - acc: 0.9888 - val_loss: 0.0303 - val_acc: 0.9864\n",
            "Epoch 14/20\n",
            "5278/5278 [==============================] - 0s 93us/step - loss: 0.0219 - acc: 0.9926 - val_loss: 0.0294 - val_acc: 0.9864\n",
            "Epoch 15/20\n",
            "5278/5278 [==============================] - 1s 98us/step - loss: 0.0199 - acc: 0.9922 - val_loss: 0.0362 - val_acc: 0.9856\n",
            "Epoch 16/20\n",
            "5278/5278 [==============================] - 1s 95us/step - loss: 0.0129 - acc: 0.9977 - val_loss: 0.0242 - val_acc: 0.9917\n",
            "Epoch 17/20\n",
            "5278/5278 [==============================] - 1s 96us/step - loss: 0.0129 - acc: 0.9973 - val_loss: 0.0201 - val_acc: 0.9924\n",
            "Epoch 18/20\n",
            "5278/5278 [==============================] - 0s 94us/step - loss: 0.0098 - acc: 0.9972 - val_loss: 0.0191 - val_acc: 0.9924\n",
            "Epoch 19/20\n",
            "5278/5278 [==============================] - 0s 94us/step - loss: 0.0112 - acc: 0.9960 - val_loss: 0.0265 - val_acc: 0.9894\n",
            "Epoch 20/20\n",
            "5278/5278 [==============================] - 1s 96us/step - loss: 0.0168 - acc: 0.9955 - val_loss: 0.0168 - val_acc: 0.9947\n"
          ],
          "name": "stdout"
        }
      ]
    },
    {
      "cell_type": "code",
      "metadata": {
        "id": "aM13dFn21vb8",
        "colab_type": "code",
        "outputId": "737e69f3-54c9-4b55-8e67-42aa501ae3b3",
        "colab": {
          "base_uri": "https://localhost:8080/",
          "height": 1000
        }
      },
      "source": [
        "train_history.history"
      ],
      "execution_count": 40,
      "outputs": [
        {
          "output_type": "execute_result",
          "data": {
            "text/plain": [
              "{'acc': [0.8978779839267781,\n",
              "  0.9329291398256916,\n",
              "  0.9442970822507027,\n",
              "  0.9533914359919543,\n",
              "  0.9621068586585828,\n",
              "  0.967032967032967,\n",
              "  0.970253883888885,\n",
              "  0.9759378552482001,\n",
              "  0.9772641151951497,\n",
              "  0.9833270178097764,\n",
              "  0.9859795377036756,\n",
              "  0.9871163319439181,\n",
              "  0.988821523304282,\n",
              "  0.9926108374384236,\n",
              "  0.9922319060250094,\n",
              "  0.997726411519515,\n",
              "  0.9973474801061007,\n",
              "  0.9971580143993937,\n",
              "  0.9960212201591512,\n",
              "  0.9954528230390299],\n",
              " 'loss': [0.25841423428704585,\n",
              "  0.17493180354669627,\n",
              "  0.14612409583419594,\n",
              "  0.12689408389184456,\n",
              "  0.10517954040571409,\n",
              "  0.08840862141555798,\n",
              "  0.07760638499991737,\n",
              "  0.0641422022731185,\n",
              "  0.05623592838539815,\n",
              "  0.044986660585552736,\n",
              "  0.03701577666623206,\n",
              "  0.03555088916453969,\n",
              "  0.02912076346575508,\n",
              "  0.02187498845618787,\n",
              "  0.019874338148932517,\n",
              "  0.012853072848479436,\n",
              "  0.012899978850132145,\n",
              "  0.00979252483295372,\n",
              "  0.011216351644410573,\n",
              "  0.016772098928855294],\n",
              " 'val_acc': [0.9287878787878788,\n",
              "  0.9356060606060606,\n",
              "  0.9477272727272728,\n",
              "  0.956060606060606,\n",
              "  0.9659090909090909,\n",
              "  0.9666666666666667,\n",
              "  0.9712121212121212,\n",
              "  0.975,\n",
              "  0.9621212121212122,\n",
              "  0.9818181818181818,\n",
              "  0.9840909090909091,\n",
              "  0.9871212121212121,\n",
              "  0.9863636363636363,\n",
              "  0.9863636363636363,\n",
              "  0.9856060606060606,\n",
              "  0.9916666666666667,\n",
              "  0.9924242424242424,\n",
              "  0.9924242424242424,\n",
              "  0.9893939393939394,\n",
              "  0.9946969696969697],\n",
              " 'val_loss': [0.18506380066727146,\n",
              "  0.1589962685198495,\n",
              "  0.13337403748071555,\n",
              "  0.11620024304949876,\n",
              "  0.10069355228633592,\n",
              "  0.09362715550444344,\n",
              "  0.07960033938288688,\n",
              "  0.06556334829691685,\n",
              "  0.08784510717642578,\n",
              "  0.05132915785141064,\n",
              "  0.041223435724775,\n",
              "  0.03223552942614664,\n",
              "  0.03029969074396473,\n",
              "  0.029368693430936246,\n",
              "  0.03623932266509104,\n",
              "  0.02423268349093357,\n",
              "  0.02007398550419814,\n",
              "  0.019115221654206063,\n",
              "  0.026509549360718775,\n",
              "  0.016803656255995687]}"
            ]
          },
          "metadata": {
            "tags": []
          },
          "execution_count": 40
        }
      ]
    },
    {
      "cell_type": "code",
      "metadata": {
        "id": "drF7swpY1vcC",
        "colab_type": "code",
        "colab": {}
      },
      "source": [
        "df = pd.DataFrame(columns=('loss', 'loss_test'))  \n",
        "\n",
        "loss = train_history.history['loss']\n",
        "val_loss = train_history.history['val_loss']\n",
        "\n",
        "df['loss'] = loss\n",
        "df['loss_test'] = val_loss"
      ],
      "execution_count": 0,
      "outputs": []
    },
    {
      "cell_type": "code",
      "metadata": {
        "id": "6Q7XFmbJ1vcH",
        "colab_type": "code",
        "outputId": "52cf2d67-060b-424a-e4fe-e7a5cbd4fb12",
        "colab": {
          "base_uri": "https://localhost:8080/",
          "height": 282
        }
      },
      "source": [
        "plt.plot(range(len(df['loss'])),df['loss'],label='loss')\n",
        "plt.plot(range(len(df['loss'])),df['loss_test'],label='Val loss')"
      ],
      "execution_count": 42,
      "outputs": [
        {
          "output_type": "execute_result",
          "data": {
            "text/plain": [
              "[<matplotlib.lines.Line2D at 0x7fdfef486b70>]"
            ]
          },
          "metadata": {
            "tags": []
          },
          "execution_count": 42
        },
        {
          "output_type": "display_data",
          "data": {
            "image/png": "[encoded data removed]",
            "text/plain": [
              "<Figure size 432x288 with 1 Axes>"
            ]
          },
          "metadata": {
            "tags": []
          }
        }
      ]
    },
    {
      "cell_type": "code",
      "metadata": {
        "id": "RE8GYd5c1vcM",
        "colab_type": "code",
        "colab": {}
      },
      "source": [
        "from keras.models import load_model\n",
        "model.save('my_model.h5')  # creates a HDF5 file 'my_model.h5'\n",
        "del model  # deletes the existing model\n",
        "# returns a compiled model\n",
        "# identical to the previous one\n",
        "model = load_model('my_model.h5')\n"
      ],
      "execution_count": 0,
      "outputs": []
    },
    {
      "cell_type": "code",
      "metadata": {
        "id": "nlnOqqhy7_OG",
        "colab_type": "code",
        "colab": {}
      },
      "source": [
        "\n",
        "import sklearn.model_selection\n",
        "import sklearn.metrics\n",
        "import sklearn.preprocessing\n",
        "import keras\n",
        "import numpy as np"
      ],
      "execution_count": 0,
      "outputs": []
    },
    {
      "cell_type": "code",
      "metadata": {
        "id": "mohEYfNoVHC3",
        "colab_type": "code",
        "colab": {}
      },
      "source": [
        "y_pred = model.predict(X_test)"
      ],
      "execution_count": 0,
      "outputs": []
    },
    {
      "cell_type": "code",
      "metadata": {
        "id": "y2Jssuwy1vcR",
        "colab_type": "code",
        "outputId": "f16d426d-ab73-4ebd-e8a4-3578ec355dd4",
        "colab": {
          "base_uri": "https://localhost:8080/",
          "height": 340
        }
      },
      "source": [
        "\n",
        "from sklearn import metrics\n",
        "print(metrics.accuracy_score(y_test,np.argmax(y_pred)))\n"
      ],
      "execution_count": 67,
      "outputs": [
        {
          "output_type": "error",
          "ename": "TypeError",
          "evalue": "ignored",
          "traceback": [
            "\u001b[0;31m---------------------------------------------------------------------------\u001b[0m",
            "\u001b[0;31mTypeError\u001b[0m                                 Traceback (most recent call last)",
            "\u001b[0;32m<ipython-input-67-9256bfe4bf5a>\u001b[0m in \u001b[0;36m<module>\u001b[0;34m()\u001b[0m\n\u001b[1;32m      1\u001b[0m \u001b[0;34m\u001b[0m\u001b[0m\n\u001b[1;32m      2\u001b[0m \u001b[0;32mfrom\u001b[0m \u001b[0msklearn\u001b[0m \u001b[0;32mimport\u001b[0m \u001b[0mmetrics\u001b[0m\u001b[0;34m\u001b[0m\u001b[0;34m\u001b[0m\u001b[0m\n\u001b[0;32m----> 3\u001b[0;31m \u001b[0mprint\u001b[0m\u001b[0;34m(\u001b[0m\u001b[0mmetrics\u001b[0m\u001b[0;34m.\u001b[0m\u001b[0maccuracy_score\u001b[0m\u001b[0;34m(\u001b[0m\u001b[0my_test\u001b[0m\u001b[0;34m,\u001b[0m\u001b[0mnp\u001b[0m\u001b[0;34m.\u001b[0m\u001b[0margmax\u001b[0m\u001b[0;34m(\u001b[0m\u001b[0my_pred\u001b[0m\u001b[0;34m)\u001b[0m\u001b[0;34m)\u001b[0m\u001b[0;34m)\u001b[0m\u001b[0;34m\u001b[0m\u001b[0;34m\u001b[0m\u001b[0m\n\u001b[0m",
            "\u001b[0;32m/usr/local/lib/python3.6/dist-packages/sklearn/metrics/_classification.py\u001b[0m in \u001b[0;36maccuracy_score\u001b[0;34m(y_true, y_pred, normalize, sample_weight)\u001b[0m\n\u001b[1;32m    183\u001b[0m \u001b[0;34m\u001b[0m\u001b[0m\n\u001b[1;32m    184\u001b[0m     \u001b[0;31m# Compute accuracy for each possible representation\u001b[0m\u001b[0;34m\u001b[0m\u001b[0;34m\u001b[0m\u001b[0;34m\u001b[0m\u001b[0m\n\u001b[0;32m--> 185\u001b[0;31m     \u001b[0my_type\u001b[0m\u001b[0;34m,\u001b[0m \u001b[0my_true\u001b[0m\u001b[0;34m,\u001b[0m \u001b[0my_pred\u001b[0m \u001b[0;34m=\u001b[0m \u001b[0m_check_targets\u001b[0m\u001b[0;34m(\u001b[0m\u001b[0my_true\u001b[0m\u001b[0;34m,\u001b[0m \u001b[0my_pred\u001b[0m\u001b[0;34m)\u001b[0m\u001b[0;34m\u001b[0m\u001b[0;34m\u001b[0m\u001b[0m\n\u001b[0m\u001b[1;32m    186\u001b[0m     \u001b[0mcheck_consistent_length\u001b[0m\u001b[0;34m(\u001b[0m\u001b[0my_true\u001b[0m\u001b[0;34m,\u001b[0m \u001b[0my_pred\u001b[0m\u001b[0;34m,\u001b[0m \u001b[0msample_weight\u001b[0m\u001b[0;34m)\u001b[0m\u001b[0;34m\u001b[0m\u001b[0;34m\u001b[0m\u001b[0m\n\u001b[1;32m    187\u001b[0m     \u001b[0;32mif\u001b[0m \u001b[0my_type\u001b[0m\u001b[0;34m.\u001b[0m\u001b[0mstartswith\u001b[0m\u001b[0;34m(\u001b[0m\u001b[0;34m'multilabel'\u001b[0m\u001b[0;34m)\u001b[0m\u001b[0;34m:\u001b[0m\u001b[0;34m\u001b[0m\u001b[0;34m\u001b[0m\u001b[0m\n",
            "\u001b[0;32m/usr/local/lib/python3.6/dist-packages/sklearn/metrics/_classification.py\u001b[0m in \u001b[0;36m_check_targets\u001b[0;34m(y_true, y_pred)\u001b[0m\n\u001b[1;32m     78\u001b[0m     \u001b[0my_pred\u001b[0m \u001b[0;34m:\u001b[0m \u001b[0marray\u001b[0m \u001b[0;32mor\u001b[0m \u001b[0mindicator\u001b[0m \u001b[0mmatrix\u001b[0m\u001b[0;34m\u001b[0m\u001b[0;34m\u001b[0m\u001b[0m\n\u001b[1;32m     79\u001b[0m     \"\"\"\n\u001b[0;32m---> 80\u001b[0;31m     \u001b[0mcheck_consistent_length\u001b[0m\u001b[0;34m(\u001b[0m\u001b[0my_true\u001b[0m\u001b[0;34m,\u001b[0m \u001b[0my_pred\u001b[0m\u001b[0;34m)\u001b[0m\u001b[0;34m\u001b[0m\u001b[0;34m\u001b[0m\u001b[0m\n\u001b[0m\u001b[1;32m     81\u001b[0m     \u001b[0mtype_true\u001b[0m \u001b[0;34m=\u001b[0m \u001b[0mtype_of_target\u001b[0m\u001b[0;34m(\u001b[0m\u001b[0my_true\u001b[0m\u001b[0;34m)\u001b[0m\u001b[0;34m\u001b[0m\u001b[0;34m\u001b[0m\u001b[0m\n\u001b[1;32m     82\u001b[0m     \u001b[0mtype_pred\u001b[0m \u001b[0;34m=\u001b[0m \u001b[0mtype_of_target\u001b[0m\u001b[0;34m(\u001b[0m\u001b[0my_pred\u001b[0m\u001b[0;34m)\u001b[0m\u001b[0;34m\u001b[0m\u001b[0;34m\u001b[0m\u001b[0m\n",
            "\u001b[0;32m/usr/local/lib/python3.6/dist-packages/sklearn/utils/validation.py\u001b[0m in \u001b[0;36mcheck_consistent_length\u001b[0;34m(*arrays)\u001b[0m\n\u001b[1;32m    206\u001b[0m     \"\"\"\n\u001b[1;32m    207\u001b[0m \u001b[0;34m\u001b[0m\u001b[0m\n\u001b[0;32m--> 208\u001b[0;31m     \u001b[0mlengths\u001b[0m \u001b[0;34m=\u001b[0m \u001b[0;34m[\u001b[0m\u001b[0m_num_samples\u001b[0m\u001b[0;34m(\u001b[0m\u001b[0mX\u001b[0m\u001b[0;34m)\u001b[0m \u001b[0;32mfor\u001b[0m \u001b[0mX\u001b[0m \u001b[0;32min\u001b[0m \u001b[0marrays\u001b[0m \u001b[0;32mif\u001b[0m \u001b[0mX\u001b[0m \u001b[0;32mis\u001b[0m \u001b[0;32mnot\u001b[0m \u001b[0;32mNone\u001b[0m\u001b[0;34m]\u001b[0m\u001b[0;34m\u001b[0m\u001b[0;34m\u001b[0m\u001b[0m\n\u001b[0m\u001b[1;32m    209\u001b[0m     \u001b[0muniques\u001b[0m \u001b[0;34m=\u001b[0m \u001b[0mnp\u001b[0m\u001b[0;34m.\u001b[0m\u001b[0munique\u001b[0m\u001b[0;34m(\u001b[0m\u001b[0mlengths\u001b[0m\u001b[0;34m)\u001b[0m\u001b[0;34m\u001b[0m\u001b[0;34m\u001b[0m\u001b[0m\n\u001b[1;32m    210\u001b[0m     \u001b[0;32mif\u001b[0m \u001b[0mlen\u001b[0m\u001b[0;34m(\u001b[0m\u001b[0muniques\u001b[0m\u001b[0;34m)\u001b[0m \u001b[0;34m>\u001b[0m \u001b[0;36m1\u001b[0m\u001b[0;34m:\u001b[0m\u001b[0;34m\u001b[0m\u001b[0;34m\u001b[0m\u001b[0m\n",
            "\u001b[0;32m/usr/local/lib/python3.6/dist-packages/sklearn/utils/validation.py\u001b[0m in \u001b[0;36m<listcomp>\u001b[0;34m(.0)\u001b[0m\n\u001b[1;32m    206\u001b[0m     \"\"\"\n\u001b[1;32m    207\u001b[0m \u001b[0;34m\u001b[0m\u001b[0m\n\u001b[0;32m--> 208\u001b[0;31m     \u001b[0mlengths\u001b[0m \u001b[0;34m=\u001b[0m \u001b[0;34m[\u001b[0m\u001b[0m_num_samples\u001b[0m\u001b[0;34m(\u001b[0m\u001b[0mX\u001b[0m\u001b[0;34m)\u001b[0m \u001b[0;32mfor\u001b[0m \u001b[0mX\u001b[0m \u001b[0;32min\u001b[0m \u001b[0marrays\u001b[0m \u001b[0;32mif\u001b[0m \u001b[0mX\u001b[0m \u001b[0;32mis\u001b[0m \u001b[0;32mnot\u001b[0m \u001b[0;32mNone\u001b[0m\u001b[0;34m]\u001b[0m\u001b[0;34m\u001b[0m\u001b[0;34m\u001b[0m\u001b[0m\n\u001b[0m\u001b[1;32m    209\u001b[0m     \u001b[0muniques\u001b[0m \u001b[0;34m=\u001b[0m \u001b[0mnp\u001b[0m\u001b[0;34m.\u001b[0m\u001b[0munique\u001b[0m\u001b[0;34m(\u001b[0m\u001b[0mlengths\u001b[0m\u001b[0;34m)\u001b[0m\u001b[0;34m\u001b[0m\u001b[0;34m\u001b[0m\u001b[0m\n\u001b[1;32m    210\u001b[0m     \u001b[0;32mif\u001b[0m \u001b[0mlen\u001b[0m\u001b[0;34m(\u001b[0m\u001b[0muniques\u001b[0m\u001b[0;34m)\u001b[0m \u001b[0;34m>\u001b[0m \u001b[0;36m1\u001b[0m\u001b[0;34m:\u001b[0m\u001b[0;34m\u001b[0m\u001b[0;34m\u001b[0m\u001b[0m\n",
            "\u001b[0;32m/usr/local/lib/python3.6/dist-packages/sklearn/utils/validation.py\u001b[0m in \u001b[0;36m_num_samples\u001b[0;34m(x)\u001b[0m\n\u001b[1;32m    150\u001b[0m         \u001b[0;32mif\u001b[0m \u001b[0mlen\u001b[0m\u001b[0;34m(\u001b[0m\u001b[0mx\u001b[0m\u001b[0;34m.\u001b[0m\u001b[0mshape\u001b[0m\u001b[0;34m)\u001b[0m \u001b[0;34m==\u001b[0m \u001b[0;36m0\u001b[0m\u001b[0;34m:\u001b[0m\u001b[0;34m\u001b[0m\u001b[0;34m\u001b[0m\u001b[0m\n\u001b[1;32m    151\u001b[0m             raise TypeError(\"Singleton array %r cannot be considered\"\n\u001b[0;32m--> 152\u001b[0;31m                             \" a valid collection.\" % x)\n\u001b[0m\u001b[1;32m    153\u001b[0m         \u001b[0;31m# Check that shape is returning an integer or default to len\u001b[0m\u001b[0;34m\u001b[0m\u001b[0;34m\u001b[0m\u001b[0;34m\u001b[0m\u001b[0m\n\u001b[1;32m    154\u001b[0m         \u001b[0;31m# Dask dataframes may not return numeric shape[0] value\u001b[0m\u001b[0;34m\u001b[0m\u001b[0;34m\u001b[0m\u001b[0;34m\u001b[0m\u001b[0m\n",
            "\u001b[0;31mTypeError\u001b[0m: Singleton array 35 cannot be considered a valid collection."
          ]
        }
      ]
    },
    {
      "cell_type": "code",
      "metadata": {
        "id": "wZ4KApuN_uvF",
        "colab_type": "code",
        "colab": {
          "base_uri": "https://localhost:8080/",
          "height": 51
        },
        "outputId": "b65969ac-b3e4-4492-dc29-7bb3d013bc28"
      },
      "source": [
        "print(y_pred.shape)\n",
        "print(y_test.shape)\n"
      ],
      "execution_count": 69,
      "outputs": [
        {
          "output_type": "stream",
          "text": [
            "(1320, 1)\n",
            "(1320,)\n"
          ],
          "name": "stdout"
        }
      ]
    },
    {
      "cell_type": "code",
      "metadata": {
        "id": "r4L8I7Pu__BX",
        "colab_type": "code",
        "colab": {
          "base_uri": "https://localhost:8080/",
          "height": 153
        },
        "outputId": "cfa6acc1-7e85-470c-bf14-e00c0d661987"
      },
      "source": [
        "print(y_test)\n",
        "print(y_pred)"
      ],
      "execution_count": 70,
      "outputs": [
        {
          "output_type": "stream",
          "text": [
            "[0 0 0 ... 0 0 0]\n",
            "[[2.5516748e-04]\n",
            " [2.6822090e-06]\n",
            " [1.1609346e-02]\n",
            " ...\n",
            " [4.4541985e-02]\n",
            " [0.0000000e+00]\n",
            " [2.9802322e-08]]\n"
          ],
          "name": "stdout"
        }
      ]
    },
    {
      "cell_type": "code",
      "metadata": {
        "id": "l5mRp-eSLjAi",
        "colab_type": "code",
        "colab": {
          "base_uri": "https://localhost:8080/",
          "height": 360
        },
        "outputId": "7c26d8cf-46d7-4b69-b064-d0a85a3c2301"
      },
      "source": [
        "\n",
        "    # Evaluate on training data\n",
        "    print('\\n-- Training data --')\n",
        "    predictions = model.predict(X_train)\n",
        "    accuracy = sklearn.metrics.accuracy_score(y_train, np.argmax(predictions, axis=1))\n",
        "    print('Accuracy: {0:.2f}'.format(accuracy * 100.0))\n",
        "    print('Classification Report:')\n",
        "    print(sklearn.metrics.classification_report(y_train, np.argmax(predictions, axis=1)))\n",
        "    print('Confusion Matrix:')\n",
        "    print(sklearn.metrics.confusion_matrix(y_train, np.argmax(predictions, axis=1)))\n",
        "    print('')\n"
      ],
      "execution_count": 46,
      "outputs": [
        {
          "output_type": "stream",
          "text": [
            "\n",
            "-- Training data --\n",
            "Accuracy: 84.69\n",
            "Classification Report:\n",
            "              precision    recall  f1-score   support\n",
            "\n",
            "           0       0.85      1.00      0.92      4470\n",
            "           1       0.00      0.00      0.00       808\n",
            "\n",
            "    accuracy                           0.85      5278\n",
            "   macro avg       0.42      0.50      0.46      5278\n",
            "weighted avg       0.72      0.85      0.78      5278\n",
            "\n",
            "Confusion Matrix:\n",
            "[[4470    0]\n",
            " [ 808    0]]\n",
            "\n"
          ],
          "name": "stdout"
        },
        {
          "output_type": "stream",
          "text": [
            "/usr/local/lib/python3.6/dist-packages/sklearn/metrics/_classification.py:1272: UndefinedMetricWarning: Precision and F-score are ill-defined and being set to 0.0 in labels with no predicted samples. Use `zero_division` parameter to control this behavior.\n",
            "  _warn_prf(average, modifier, msg_start, len(result))\n"
          ],
          "name": "stderr"
        }
      ]
    },
    {
      "cell_type": "code",
      "metadata": {
        "id": "we7KBfTSFft8",
        "colab_type": "code",
        "colab": {
          "base_uri": "https://localhost:8080/",
          "height": 306
        },
        "outputId": "0e54d9cd-c0b8-4723-c40a-b46046c15770"
      },
      "source": [
        "print('\\n-- Training data --')\n",
        "predictions = np.round(model.predict(X_train).squeeze())\n",
        "accuracy = sklearn.metrics.accuracy_score(y_train, predictions)\n",
        "print('Accuracy: {0:.2f}'.format(accuracy * 100.0))\n",
        "print('Classification Report:')\n",
        "print(sklearn.metrics.classification_report(y_train, predictions))\n",
        "print('Confusion Matrix:')\n",
        "print(sklearn.metrics.confusion_matrix(y_train, predictions))\n",
        "print('')"
      ],
      "execution_count": 71,
      "outputs": [
        {
          "output_type": "stream",
          "text": [
            "\n",
            "-- Training data --\n",
            "Accuracy: 99.73\n",
            "Classification Report:\n",
            "              precision    recall  f1-score   support\n",
            "\n",
            "           0       1.00      1.00      1.00      4470\n",
            "           1       0.99      1.00      0.99       808\n",
            "\n",
            "    accuracy                           1.00      5278\n",
            "   macro avg       0.99      1.00      0.99      5278\n",
            "weighted avg       1.00      1.00      1.00      5278\n",
            "\n",
            "Confusion Matrix:\n",
            "[[4459   11]\n",
            " [   3  805]]\n",
            "\n"
          ],
          "name": "stdout"
        }
      ]
    },
    {
      "cell_type": "code",
      "metadata": {
        "id": "BmOs6dW-G3ae",
        "colab_type": "code",
        "colab": {
          "base_uri": "https://localhost:8080/",
          "height": 306
        },
        "outputId": "d1af6eaf-205b-4031-dd44-5291d2120a55"
      },
      "source": [
        "print('\\n-- Training data --')\n",
        "predictions = np.round(model.predict(X_test).squeeze())\n",
        "accuracy = sklearn.metrics.accuracy_score(y_test, predictions)\n",
        "print('Accuracy: {0:.2f}'.format(accuracy * 100.0))\n",
        "print('Classification Report:')\n",
        "print(sklearn.metrics.classification_report(y_test, predictions))\n",
        "print('Confusion Matrix:')\n",
        "print(sklearn.metrics.confusion_matrix(y_test, predictions))\n",
        "print('')"
      ],
      "execution_count": 72,
      "outputs": [
        {
          "output_type": "stream",
          "text": [
            "\n",
            "-- Training data --\n",
            "Accuracy: 99.47\n",
            "Classification Report:\n",
            "              precision    recall  f1-score   support\n",
            "\n",
            "           0       1.00      1.00      1.00      1111\n",
            "           1       0.99      0.98      0.98       209\n",
            "\n",
            "    accuracy                           0.99      1320\n",
            "   macro avg       0.99      0.99      0.99      1320\n",
            "weighted avg       0.99      0.99      0.99      1320\n",
            "\n",
            "Confusion Matrix:\n",
            "[[1109    2]\n",
            " [   5  204]]\n",
            "\n"
          ],
          "name": "stdout"
        }
      ]
    }
  ]
}